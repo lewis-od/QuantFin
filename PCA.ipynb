{
 "cells": [
  {
   "cell_type": "markdown",
   "metadata": {},
   "source": [
    "# Principal Component Analysis\n",
    "Performs PCA on actual financial data from some shares that make up the DJIA."
   ]
  },
  {
   "cell_type": "code",
   "execution_count": 1,
   "metadata": {},
   "outputs": [],
   "source": [
    "%matplotlib inline\n",
    "import numpy as np\n",
    "import quantfin as qf\n",
    "import matplotlib.pyplot as plt\n",
    "from pandas_datareader import data"
   ]
  },
  {
   "cell_type": "code",
   "execution_count": 2,
   "metadata": {},
   "outputs": [],
   "source": [
    "tickers = ['AXP', 'BA', 'CAT', 'CSCO', 'CVX', 'DIS'] # Stocks to retreive"
   ]
  },
  {
   "cell_type": "code",
   "execution_count": 3,
   "metadata": {},
   "outputs": [],
   "source": [
    "panel_data = data.DataReader(tickers, 'iex', '2014-01-01', '2019-01-01') # Get data"
   ]
  },
  {
   "cell_type": "code",
   "execution_count": 4,
   "metadata": {},
   "outputs": [],
   "source": [
    "close = panel_data['close'] # Only interested in closing prices"
   ]
  },
  {
   "cell_type": "code",
   "execution_count": 5,
   "metadata": {},
   "outputs": [
    {
     "data": {
      "text/html": [
       "<div>\n",
       "<style scoped>\n",
       "    .dataframe tbody tr th:only-of-type {\n",
       "        vertical-align: middle;\n",
       "    }\n",
       "\n",
       "    .dataframe tbody tr th {\n",
       "        vertical-align: top;\n",
       "    }\n",
       "\n",
       "    .dataframe thead th {\n",
       "        text-align: right;\n",
       "    }\n",
       "</style>\n",
       "<table border=\"1\" class=\"dataframe\">\n",
       "  <thead>\n",
       "    <tr style=\"text-align: right;\">\n",
       "      <th>Symbols</th>\n",
       "      <th>AXP</th>\n",
       "      <th>BA</th>\n",
       "      <th>CAT</th>\n",
       "      <th>CSCO</th>\n",
       "      <th>CVX</th>\n",
       "      <th>DIS</th>\n",
       "    </tr>\n",
       "  </thead>\n",
       "  <tbody>\n",
       "    <tr>\n",
       "      <th>count</th>\n",
       "      <td>1161.000000</td>\n",
       "      <td>1161.000000</td>\n",
       "      <td>1161.000000</td>\n",
       "      <td>1161.000000</td>\n",
       "      <td>1161.000000</td>\n",
       "      <td>1161.000000</td>\n",
       "    </tr>\n",
       "    <tr>\n",
       "      <th>mean</th>\n",
       "      <td>79.701393</td>\n",
       "      <td>187.791247</td>\n",
       "      <td>96.568637</td>\n",
       "      <td>30.047868</td>\n",
       "      <td>97.726679</td>\n",
       "      <td>98.980155</td>\n",
       "    </tr>\n",
       "    <tr>\n",
       "      <th>std</th>\n",
       "      <td>14.283056</td>\n",
       "      <td>88.316129</td>\n",
       "      <td>29.622145</td>\n",
       "      <td>7.735951</td>\n",
       "      <td>14.135911</td>\n",
       "      <td>9.497252</td>\n",
       "    </tr>\n",
       "    <tr>\n",
       "      <th>min</th>\n",
       "      <td>48.475700</td>\n",
       "      <td>99.925700</td>\n",
       "      <td>52.802700</td>\n",
       "      <td>19.770500</td>\n",
       "      <td>60.127600</td>\n",
       "      <td>76.146100</td>\n",
       "    </tr>\n",
       "    <tr>\n",
       "      <th>25%</th>\n",
       "      <td>70.228000</td>\n",
       "      <td>120.981600</td>\n",
       "      <td>73.138500</td>\n",
       "      <td>24.314200</td>\n",
       "      <td>89.189900</td>\n",
       "      <td>92.966700</td>\n",
       "    </tr>\n",
       "    <tr>\n",
       "      <th>50%</th>\n",
       "      <td>77.261500</td>\n",
       "      <td>135.437600</td>\n",
       "      <td>88.229500</td>\n",
       "      <td>28.032800</td>\n",
       "      <td>97.379500</td>\n",
       "      <td>100.205400</td>\n",
       "    </tr>\n",
       "    <tr>\n",
       "      <th>75%</th>\n",
       "      <td>90.363300</td>\n",
       "      <td>253.460400</td>\n",
       "      <td>122.731700</td>\n",
       "      <td>32.795900</td>\n",
       "      <td>108.284100</td>\n",
       "      <td>106.286400</td>\n",
       "    </tr>\n",
       "    <tr>\n",
       "      <th>max</th>\n",
       "      <td>112.033300</td>\n",
       "      <td>386.325100</td>\n",
       "      <td>165.848700</td>\n",
       "      <td>48.130200</td>\n",
       "      <td>126.115900</td>\n",
       "      <td>117.984800</td>\n",
       "    </tr>\n",
       "  </tbody>\n",
       "</table>\n",
       "</div>"
      ],
      "text/plain": [
       "Symbols          AXP           BA          CAT         CSCO          CVX  \\\n",
       "count    1161.000000  1161.000000  1161.000000  1161.000000  1161.000000   \n",
       "mean       79.701393   187.791247    96.568637    30.047868    97.726679   \n",
       "std        14.283056    88.316129    29.622145     7.735951    14.135911   \n",
       "min        48.475700    99.925700    52.802700    19.770500    60.127600   \n",
       "25%        70.228000   120.981600    73.138500    24.314200    89.189900   \n",
       "50%        77.261500   135.437600    88.229500    28.032800    97.379500   \n",
       "75%        90.363300   253.460400   122.731700    32.795900   108.284100   \n",
       "max       112.033300   386.325100   165.848700    48.130200   126.115900   \n",
       "\n",
       "Symbols          DIS  \n",
       "count    1161.000000  \n",
       "mean       98.980155  \n",
       "std         9.497252  \n",
       "min        76.146100  \n",
       "25%        92.966700  \n",
       "50%       100.205400  \n",
       "75%       106.286400  \n",
       "max       117.984800  "
      ]
     },
     "execution_count": 5,
     "metadata": {},
     "output_type": "execute_result"
    }
   ],
   "source": [
    "close.describe()"
   ]
  },
  {
   "cell_type": "code",
   "execution_count": 6,
   "metadata": {},
   "outputs": [],
   "source": [
    "Z = close.corr().values # Get correlation matrix as a numpy array\n",
    "vals = np.linalg.eigvals(Z) # Find eigenvalues"
   ]
  },
  {
   "cell_type": "code",
   "execution_count": 7,
   "metadata": {},
   "outputs": [
    {
     "data": {
      "image/png": "[encoded data removed]",
      "text/plain": [
       "<Figure size 432x288 with 1 Axes>"
      ]
     },
     "metadata": {},
     "output_type": "display_data"
    }
   ],
   "source": [
    "# Plot magnitudes of eigenvalues as a bar chart\n",
    "plt.bar(np.arange(len(tickers)), vals)\n",
    "plt.xlabel('Principal Component')\n",
    "plt.ylabel('Weight');"
   ]
  },
  {
   "cell_type": "code",
   "execution_count": 19,
   "metadata": {},
   "outputs": [
    {
     "name": "stdout",
     "output_type": "stream",
     "text": [
      "[[-1.47742639 -2.341538   -0.24534339  0.05596221  0.0349113  -0.11080378]\n",
      " [-1.42030151 -2.26664135 -0.29175147  0.04723966  0.01519526 -0.08866502]\n",
      " [-1.33926945 -2.25116062 -0.43660902  0.09521392  0.05940323 -0.07840809]\n",
      " ..., \n",
      " [ 2.66365662  0.40907508  0.17248668  0.43997105  0.26487238 -0.01294126]\n",
      " [ 2.63116909  0.50383136  0.14732613  0.43015173  0.25703615 -0.02031283]\n",
      " [ 2.80935078  0.70501785  0.09206453  0.3906598   0.23344684 -0.01203967]]\n",
      "[[ 0.41413447 -0.22798236 -0.83192406  0.16668868  0.2267698   0.07217603]\n",
      " [ 0.45267389  0.08631427  0.18371436  0.39663605 -0.1143696  -0.76386168]\n",
      " [ 0.44596626 -0.20430651  0.13074928  0.08815706 -0.74166312  0.42946678]\n",
      " [ 0.43977631  0.18362346  0.41829905  0.27490983  0.57432504  0.43872595]\n",
      " [ 0.40508898 -0.38081253  0.18637941 -0.76719042  0.18360449 -0.18399918]\n",
      " [ 0.25921574  0.84858528 -0.21758821 -0.37810912 -0.14788852  0.02297979]]\n"
     ]
    }
   ],
   "source": [
    "# Calculate PCs\n",
    "T, P = qf.pca.pca(close.values, epsilon=1e-15)\n",
    "print(T)\n",
    "print(P)"
   ]
  },
  {
   "cell_type": "code",
   "execution_count": null,
   "metadata": {},
   "outputs": [],
   "source": []
  }
 ],
 "metadata": {
  "kernelspec": {
   "display_name": "Python 3",
   "language": "python",
   "name": "python3"
  },
  "language_info": {
   "codemirror_mode": {
    "name": "ipython",
    "version": 3
   },
   "file_extension": ".py",
   "mimetype": "text/x-python",
   "name": "python",
   "nbconvert_exporter": "python",
   "pygments_lexer": "ipython3",
   "version": "3.6.5"
  }
 },
 "nbformat": 4,
 "nbformat_minor": 2
}
