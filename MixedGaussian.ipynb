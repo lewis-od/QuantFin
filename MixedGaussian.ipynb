{
 "cells": [
  {
   "cell_type": "code",
   "execution_count": 1,
   "metadata": {},
   "outputs": [],
   "source": [
    "%matplotlib inline\n",
    "import numpy as np\n",
    "import quantfin as qf\n",
    "import matplotlib.pyplot as plt"
   ]
  },
  {
   "cell_type": "code",
   "execution_count": 2,
   "metadata": {},
   "outputs": [
    {
     "data": {
      "image/png": "[encoded data removed]",
      "text/plain": [
       "<Figure size 432x288 with 1 Axes>"
      ]
     },
     "metadata": {},
     "output_type": "display_data"
    }
   ],
   "source": [
    "# Sample data from a mixed Gaussian distribution\n",
    "N = 250\n",
    "x = qf.random.dists.mixed_gaussian(1.5, 0.25, -1.0, 0.5, 0.8, shape=(N,))\n",
    "plt.hist(x, density=True);"
   ]
  },
  {
   "cell_type": "code",
   "execution_count": 3,
   "metadata": {},
   "outputs": [],
   "source": [
    "# Fit a mixed Gaussian distribution to the data\n",
    "mus, sigmas, rs = qf.stats.fit_mixed_gaussian(x, 2, epsilon=1e-5)"
   ]
  },
  {
   "cell_type": "code",
   "execution_count": 4,
   "metadata": {},
   "outputs": [],
   "source": [
    "from quantfin.stats.kernels import gaussian\n",
    "def pdf(x, mus, sigmas, rs):\n",
    "    N = np.sqrt(2 * np.pi) # Normalisation const.\n",
    "    p = (rs * gaussian((x - mus) / sigmas)).sum()\n",
    "    return p / N"
   ]
  },
  {
   "cell_type": "code",
   "execution_count": 7,
   "metadata": {},
   "outputs": [
    {
     "data": {
      "image/png": "[encoded data removed]",
      "text/plain": [
       "<Figure size 432x288 with 1 Axes>"
      ]
     },
     "metadata": {},
     "output_type": "display_data"
    }
   ],
   "source": [
    "# Plot the fitted distribution over the random data\n",
    "ts = np.linspace(-2.5, 2.5, 250)\n",
    "y = np.array([pdf(t, mus, sigmas, rs) for t in ts])\n",
    "plt.hist(x)\n",
    "plt.plot(ts, y*N);"
   ]
  },
  {
   "cell_type": "code",
   "execution_count": 6,
   "metadata": {},
   "outputs": [
    {
     "name": "stdout",
     "output_type": "stream",
     "text": [
      "[ 0.01501556 -0.16035929]\n",
      "[ 0.00827791 -0.00928077]\n",
      "[ 0.03597858 -0.03597858]\n"
     ]
    }
   ],
   "source": [
    "# Errors in estimated parameters\n",
    "print(mus - [1.5, -1.0])\n",
    "print(sigmas - [0.25, 0.5])\n",
    "print(rs - [0.8, 0.2])"
   ]
  },
  {
   "cell_type": "code",
   "execution_count": null,
   "metadata": {},
   "outputs": [],
   "source": []
  }
 ],
 "metadata": {
  "kernelspec": {
   "display_name": "Python 3",
   "language": "python",
   "name": "python3"
  },
  "language_info": {
   "codemirror_mode": {
    "name": "ipython",
    "version": 3
   },
   "file_extension": ".py",
   "mimetype": "text/x-python",
   "name": "python",
   "nbconvert_exporter": "python",
   "pygments_lexer": "ipython3",
   "version": "3.6.5"
  }
 },
 "nbformat": 4,
 "nbformat_minor": 2
}
